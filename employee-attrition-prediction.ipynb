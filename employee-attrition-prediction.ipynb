{
 "cells": [
  {
   "cell_type": "markdown",
   "id": "6a0b1584",
   "metadata": {
    "papermill": {
     "duration": 0.003227,
     "end_time": "2025-02-23T17:09:52.887577",
     "exception": false,
     "start_time": "2025-02-23T17:09:52.884350",
     "status": "completed"
    },
    "tags": []
   },
   "source": [
    "## **Importing Libraries**"
   ]
  },
  {
   "cell_type": "code",
   "execution_count": 1,
   "id": "f3bdace9",
   "metadata": {
    "execution": {
     "iopub.execute_input": "2025-02-23T17:09:52.894538Z",
     "iopub.status.busy": "2025-02-23T17:09:52.894085Z",
     "iopub.status.idle": "2025-02-23T17:09:55.906715Z",
     "shell.execute_reply": "2025-02-23T17:09:55.905436Z"
    },
    "papermill": {
     "duration": 3.018553,
     "end_time": "2025-02-23T17:09:55.909066",
     "exception": false,
     "start_time": "2025-02-23T17:09:52.890513",
     "status": "completed"
    },
    "tags": []
   },
   "outputs": [],
   "source": [
    "import pandas as pd\n",
    "import numpy as np\n",
    "import matplotlib.pyplot as plt\n",
    "import seaborn as sns"
   ]
  },
  {
   "cell_type": "code",
   "execution_count": 2,
   "id": "fc9668ba",
   "metadata": {
    "execution": {
     "iopub.execute_input": "2025-02-23T17:09:55.916840Z",
     "iopub.status.busy": "2025-02-23T17:09:55.916119Z",
     "iopub.status.idle": "2025-02-23T17:09:55.974358Z",
     "shell.execute_reply": "2025-02-23T17:09:55.972710Z"
    },
    "papermill": {
     "duration": 0.064525,
     "end_time": "2025-02-23T17:09:55.976741",
     "exception": false,
     "start_time": "2025-02-23T17:09:55.912216",
     "status": "completed"
    },
    "tags": []
   },
   "outputs": [
    {
     "name": "stdout",
     "output_type": "stream",
     "text": [
      "   Age Attrition     BusinessTravel  DailyRate              Department  \\\n",
      "0   41       Yes      Travel_Rarely       1102                   Sales   \n",
      "1   49        No  Travel_Frequently        279  Research & Development   \n",
      "2   37       Yes      Travel_Rarely       1373  Research & Development   \n",
      "3   33        No  Travel_Frequently       1392  Research & Development   \n",
      "4   27        No      Travel_Rarely        591  Research & Development   \n",
      "\n",
      "   DistanceFromHome  Education EducationField  EmployeeCount  EmployeeNumber  \\\n",
      "0                 1          2  Life Sciences              1               1   \n",
      "1                 8          1  Life Sciences              1               2   \n",
      "2                 2          2          Other              1               4   \n",
      "3                 3          4  Life Sciences              1               5   \n",
      "4                 2          1        Medical              1               7   \n",
      "\n",
      "   ...  RelationshipSatisfaction StandardHours  StockOptionLevel  \\\n",
      "0  ...                         1            80                 0   \n",
      "1  ...                         4            80                 1   \n",
      "2  ...                         2            80                 0   \n",
      "3  ...                         3            80                 0   \n",
      "4  ...                         4            80                 1   \n",
      "\n",
      "   TotalWorkingYears  TrainingTimesLastYear WorkLifeBalance  YearsAtCompany  \\\n",
      "0                  8                      0               1               6   \n",
      "1                 10                      3               3              10   \n",
      "2                  7                      3               3               0   \n",
      "3                  8                      3               3               8   \n",
      "4                  6                      3               3               2   \n",
      "\n",
      "  YearsInCurrentRole  YearsSinceLastPromotion  YearsWithCurrManager  \n",
      "0                  4                        0                     5  \n",
      "1                  7                        1                     7  \n",
      "2                  0                        0                     0  \n",
      "3                  7                        3                     0  \n",
      "4                  2                        2                     2  \n",
      "\n",
      "[5 rows x 35 columns]\n"
     ]
    }
   ],
   "source": [
    "df = pd.read_csv(\"/kaggle/input/ibm-hr-analytics-attrition-dataset/WA_Fn-UseC_-HR-Employee-Attrition.csv\")\n",
    "print(df.head())"
   ]
  },
  {
   "cell_type": "markdown",
   "id": "00b15f17",
   "metadata": {
    "papermill": {
     "duration": 0.002665,
     "end_time": "2025-02-23T17:09:55.982713",
     "exception": false,
     "start_time": "2025-02-23T17:09:55.980048",
     "status": "completed"
    },
    "tags": []
   },
   "source": [
    "## **Data Cleaning**"
   ]
  },
  {
   "cell_type": "code",
   "execution_count": 3,
   "id": "f348f0f7",
   "metadata": {
    "_kg_hide-input": false,
    "execution": {
     "iopub.execute_input": "2025-02-23T17:09:55.989658Z",
     "iopub.status.busy": "2025-02-23T17:09:55.989261Z",
     "iopub.status.idle": "2025-02-23T17:09:56.002464Z",
     "shell.execute_reply": "2025-02-23T17:09:56.000828Z"
    },
    "papermill": {
     "duration": 0.019015,
     "end_time": "2025-02-23T17:09:56.004501",
     "exception": false,
     "start_time": "2025-02-23T17:09:55.985486",
     "status": "completed"
    },
    "tags": []
   },
   "outputs": [
    {
     "data": {
      "text/plain": [
       "Age                         0\n",
       "Attrition                   0\n",
       "BusinessTravel              0\n",
       "DailyRate                   0\n",
       "Department                  0\n",
       "DistanceFromHome            0\n",
       "Education                   0\n",
       "EducationField              0\n",
       "EmployeeCount               0\n",
       "EmployeeNumber              0\n",
       "EnvironmentSatisfaction     0\n",
       "Gender                      0\n",
       "HourlyRate                  0\n",
       "JobInvolvement              0\n",
       "JobLevel                    0\n",
       "JobRole                     0\n",
       "JobSatisfaction             0\n",
       "MaritalStatus               0\n",
       "MonthlyIncome               0\n",
       "MonthlyRate                 0\n",
       "NumCompaniesWorked          0\n",
       "Over18                      0\n",
       "OverTime                    0\n",
       "PercentSalaryHike           0\n",
       "PerformanceRating           0\n",
       "RelationshipSatisfaction    0\n",
       "StandardHours               0\n",
       "StockOptionLevel            0\n",
       "TotalWorkingYears           0\n",
       "TrainingTimesLastYear       0\n",
       "WorkLifeBalance             0\n",
       "YearsAtCompany              0\n",
       "YearsInCurrentRole          0\n",
       "YearsSinceLastPromotion     0\n",
       "YearsWithCurrManager        0\n",
       "dtype: int64"
      ]
     },
     "execution_count": 3,
     "metadata": {},
     "output_type": "execute_result"
    }
   ],
   "source": [
    "df.fillna(df.mean, inplace=True)\n",
    "df.isnull().sum()"
   ]
  },
  {
   "cell_type": "markdown",
   "id": "f9238e3d",
   "metadata": {
    "papermill": {
     "duration": 0.002698,
     "end_time": "2025-02-23T17:09:56.011680",
     "exception": false,
     "start_time": "2025-02-23T17:09:56.008982",
     "status": "completed"
    },
    "tags": []
   },
   "source": [
    "## **Visualization**"
   ]
  },
  {
   "cell_type": "code",
   "execution_count": 4,
   "id": "99227cb2",
   "metadata": {
    "execution": {
     "iopub.execute_input": "2025-02-23T17:09:56.019095Z",
     "iopub.status.busy": "2025-02-23T17:09:56.018650Z",
     "iopub.status.idle": "2025-02-23T17:09:56.279958Z",
     "shell.execute_reply": "2025-02-23T17:09:56.278641Z"
    },
    "papermill": {
     "duration": 0.267241,
     "end_time": "2025-02-23T17:09:56.281918",
     "exception": false,
     "start_time": "2025-02-23T17:09:56.014677",
     "status": "completed"
    },
    "tags": []
   },
   "outputs": [
    {
     "data": {
      "image/png": "[encoded data removed]",
      "text/plain": [
       "<Figure size 500x400 with 1 Axes>"
      ]
     },
     "metadata": {},
     "output_type": "display_data"
    }
   ],
   "source": [
    "plt.figure(figsize=(5,4))\n",
    "sns.countplot(data=df, x=\"Attrition\", palette=\"coolwarm\")\n",
    "plt.title(\"Employee Attrition Count\")\n",
    "plt.show()"
   ]
  },
  {
   "cell_type": "code",
   "execution_count": 5,
   "id": "57fe5748",
   "metadata": {
    "execution": {
     "iopub.execute_input": "2025-02-23T17:09:56.290157Z",
     "iopub.status.busy": "2025-02-23T17:09:56.289775Z",
     "iopub.status.idle": "2025-02-23T17:09:56.446363Z",
     "shell.execute_reply": "2025-02-23T17:09:56.444961Z"
    },
    "papermill": {
     "duration": 0.162918,
     "end_time": "2025-02-23T17:09:56.448360",
     "exception": false,
     "start_time": "2025-02-23T17:09:56.285442",
     "status": "completed"
    },
    "tags": []
   },
   "outputs": [
    {
     "data": {
      "image/png": "[encoded data removed]",
      "text/plain": [
       "<Figure size 500x400 with 1 Axes>"
      ]
     },
     "metadata": {},
     "output_type": "display_data"
    }
   ],
   "source": [
    "plt.figure(figsize=(5,4))\n",
    "sns.boxplot(x=\"Attrition\", y=\"Age\", palette=\"coolwarm\", data=df)\n",
    "plt.title(\"Age vs. Attrition\")\n",
    "plt.show()"
   ]
  },
  {
   "cell_type": "code",
   "execution_count": 6,
   "id": "49dc1109",
   "metadata": {
    "execution": {
     "iopub.execute_input": "2025-02-23T17:09:56.457094Z",
     "iopub.status.busy": "2025-02-23T17:09:56.456755Z",
     "iopub.status.idle": "2025-02-23T17:09:56.637047Z",
     "shell.execute_reply": "2025-02-23T17:09:56.635891Z"
    },
    "papermill": {
     "duration": 0.186961,
     "end_time": "2025-02-23T17:09:56.639075",
     "exception": false,
     "start_time": "2025-02-23T17:09:56.452114",
     "status": "completed"
    },
    "tags": []
   },
   "outputs": [
    {
     "data": {
      "image/png": "[encoded data removed]",
      "text/plain": [
       "<Figure size 500x400 with 1 Axes>"
      ]
     },
     "metadata": {},
     "output_type": "display_data"
    }
   ],
   "source": [
    "plt.figure(figsize=(5, 4))\n",
    "sns.boxplot(x=\"Attrition\", y=\"MonthlyIncome\", palette=\"coolwarm\", data=df)\n",
    "plt.title(\"Salary vs. Attrition\")\n",
    "plt.show()"
   ]
  }
 ],
 "metadata": {
  "kaggle": {
   "accelerator": "none",
   "dataSources": [
    {
     "datasetId": 1067,
     "sourceId": 1925,
     "sourceType": "datasetVersion"
    },
    {
     "sourceId": 117937361,
     "sourceType": "kernelVersion"
    }
   ],
   "dockerImageVersionId": 30918,
   "isGpuEnabled": false,
   "isInternetEnabled": false,
   "language": "python",
   "sourceType": "notebook"
  },
  "kernelspec": {
   "display_name": "Python 3",
   "language": "python",
   "name": "python3"
  },
  "language_info": {
   "codemirror_mode": {
    "name": "ipython",
    "version": 3
   },
   "file_extension": ".py",
   "mimetype": "text/x-python",
   "name": "python",
   "nbconvert_exporter": "python",
   "pygments_lexer": "ipython3",
   "version": "3.10.12"
  },
  "papermill": {
   "default_parameters": {},
   "duration": 7.466042,
   "end_time": "2025-02-23T17:09:57.365250",
   "environment_variables": {},
   "exception": null,
   "input_path": "__notebook__.ipynb",
   "output_path": "__notebook__.ipynb",
   "parameters": {},
   "start_time": "2025-02-23T17:09:49.899208",
   "version": "2.6.0"
  }
 },
 "nbformat": 4,
 "nbformat_minor": 5
}
